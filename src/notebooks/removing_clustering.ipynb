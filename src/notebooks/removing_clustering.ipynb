{
 "cells": [
  {
   "cell_type": "code",
   "execution_count": 1,
   "metadata": {},
   "outputs": [],
   "source": [
    "import geopandas as gpd\n",
    "\n",
    "# Load your presence data (assume it's in a CSV file with 'longitude' and 'latitude' columns)\n",
    "presence_data = gpd.read_file('../../data/26-05-2024-1505/presence_absence.json')\n",
    "presence_data = presence_data[presence_data['target'] == 1]"
   ]
  },
  {
   "cell_type": "code",
   "execution_count": 4,
   "metadata": {},
   "outputs": [],
   "source": [
    "\n",
    "from shapely.geometry import Point\n",
    "from sdm_bio.utils import geoframe_to_pandas\n",
    "\n",
    "def thin_points(points, min_distance):\n",
    "    thinned_points = []\n",
    "    for point in points:\n",
    "        if all(point.distance(other_point) >= min_distance for other_point in thinned_points):\n",
    "            thinned_points.append(point)\n",
    "    return thinned_points\n",
    "\n",
    "def thin_occurences(presence_data: gpd.GeoDataFrame,  min_distance = 10000, target_default_value =1):\n",
    "    wgs84 = \"EPSG:4326\"\n",
    "    utm = \"EPSG:32633\"  # UTM zone 33N as an example\n",
    "    \n",
    "    if isinstance(presence_data.geometry.iloc[0], tuple):\n",
    "        presence_data['geometry'] = presence_data.apply(lambda row: Point(row.geometry), axis=1)\n",
    "        \n",
    "    points = list(presence_data.geometry)\n",
    "\n",
    "    # Define minimum distance (in the same units as the projected CRS)\n",
    "   \n",
    "\n",
    "    # Apply the thinning algorithm\n",
    "    thinned_points = thin_points(points, min_distance)\n",
    "\n",
    "    # Convert thinned points back to a GeoDataFrame\n",
    "    thinned_data = gpd.GeoDataFrame(geometry=thinned_points, crs=utm)\n",
    "    # Reproject thinned points back to WGS84\n",
    "    thinned_data = thinned_data.to_crs(wgs84)\n",
    "    thinned_data['target'] = target_default_value\n",
    "    return geoframe_to_pandas(thinned_data)"
   ]
  },
  {
   "cell_type": "code",
   "execution_count": 5,
   "metadata": {},
   "outputs": [],
   "source": [
    "thinned_data_pd = thin_occurences(presence_data=presence_data)"
   ]
  }
 ],
 "metadata": {
  "kernelspec": {
   "display_name": "web-scraping-venv",
   "language": "python",
   "name": "python3"
  },
  "language_info": {
   "codemirror_mode": {
    "name": "ipython",
    "version": 3
   },
   "file_extension": ".py",
   "mimetype": "text/x-python",
   "name": "python",
   "nbconvert_exporter": "python",
   "pygments_lexer": "ipython3",
   "version": "3.11.4"
  }
 },
 "nbformat": 4,
 "nbformat_minor": 2
}
