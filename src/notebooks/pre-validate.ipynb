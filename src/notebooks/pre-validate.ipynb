{
 "cells": [
  {
   "cell_type": "code",
   "execution_count": 4,
   "metadata": {},
   "outputs": [],
   "source": [
    "import pandas as pd"
   ]
  },
  {
   "cell_type": "code",
   "execution_count": 5,
   "metadata": {},
   "outputs": [],
   "source": [
    "data = (\n",
    "    pd.read_parquet(\"C:/Users/kenji/dev/web-scraping-images-vinacea/web-scraping-images-vinacea/assets/INPUT/gbif.parquet\")[['Latitude','Longitude']].rename(\n",
    "        columns={'Latitude':'lat','Longitude':'lon'}\n",
    "    )\n",
    ")\n",
    "data['target'] = 1"
   ]
  },
  {
   "cell_type": "code",
   "execution_count": 7,
   "metadata": {},
   "outputs": [
    {
     "ename": "TypeError",
     "evalue": "SDM.__init__() missing 1 required positional argument: 'domain'",
     "output_type": "error",
     "traceback": [
      "\u001b[1;31m---------------------------------------------------------------------------\u001b[0m",
      "\u001b[1;31mTypeError\u001b[0m                                 Traceback (most recent call last)",
      "Cell \u001b[1;32mIn[7], line 4\u001b[0m\n\u001b[0;32m      1\u001b[0m \u001b[38;5;28;01mfrom\u001b[39;00m \u001b[38;5;21;01msdm_bio\u001b[39;00m \u001b[38;5;28;01mimport\u001b[39;00m SDM\n\u001b[1;32m----> 4\u001b[0m sdm_model \u001b[38;5;241m=\u001b[39m \u001b[43mSDM\u001b[49m\u001b[43m(\u001b[49m\u001b[43mdata\u001b[49m\u001b[43m)\u001b[49m\n\u001b[0;32m      6\u001b[0m sdm_model\u001b[38;5;241m.\u001b[39mgenerate_random_points(n_points \u001b[38;5;241m=\u001b[39m \u001b[38;5;241m1000\u001b[39m)\n\u001b[0;32m      7\u001b[0m sdm_model\u001b[38;5;241m.\u001b[39mpresence_absence_df\n",
      "\u001b[1;31mTypeError\u001b[0m: SDM.__init__() missing 1 required positional argument: 'domain'"
     ]
    }
   ],
   "source": [
    "from sdm_bio import SDM\n",
    "\n",
    "\n",
    "sdm_model = SDM(data)\n",
    "\n",
    "sdm_model.generate_random_points(n_points = 1000)\n",
    "sdm_model.presence_absence_df"
   ]
  }
 ],
 "metadata": {
  "kernelspec": {
   "display_name": "web-scraping-venv",
   "language": "python",
   "name": "python3"
  },
  "language_info": {
   "codemirror_mode": {
    "name": "ipython",
    "version": 3
   },
   "file_extension": ".py",
   "mimetype": "text/x-python",
   "name": "python",
   "nbconvert_exporter": "python",
   "pygments_lexer": "ipython3",
   "version": "3.11.4"
  }
 },
 "nbformat": 4,
 "nbformat_minor": 2
}
